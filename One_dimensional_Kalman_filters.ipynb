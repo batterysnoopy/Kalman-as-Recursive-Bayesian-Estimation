{
 "cells": [
  {
   "cell_type": "code",
   "execution_count": 27,
   "metadata": {
    "collapsed": true
   },
   "outputs": [],
   "source": [
    "%load_ext autoreload\n",
    "%autoreload 2"
   ]
  },
  {
   "cell_type": "code",
   "execution_count": 23,
   "metadata": {
    "collapsed": true
   },
   "outputs": [],
   "source": [
    "%matplotlib inline\n",
    "from matplotlib import pyplot as plt\n",
    "import numpy as np\n",
    "from histogram_filters import convolve\n",
    "from kalman import plot_gaussian"
   ]
  },
  {
   "cell_type": "markdown",
   "metadata": {},
   "source": [
    "# Kalman filter\n"
   ]
  },
  {
   "cell_type": "markdown",
   "metadata": {},
   "source": [
    "- Parametric filter: mean, variance\n",
    "- Unimodal\n",
    "- Google uses it to locate other cars"
   ]
  },
  {
   "cell_type": "markdown",
   "metadata": {},
   "source": [
    "# The model (Moving object)\n",
    "## Definition"
   ]
  },
  {
   "cell_type": "markdown",
   "metadata": {},
   "source": [
    "$S_k = S_{k-1} + 1 + W$\n",
    "\n",
    "$X_k = S_k + V$"
   ]
  },
  {
   "cell_type": "markdown",
   "metadata": {},
   "source": [
    "Similar to the [additive noise histogram filter](https://github.com/jganzabal/Kalman-as-Recursive-Bayesian-Estimation/blob/master/Additive%20noise%20Histogram%20Filters.ipynb)  but with some fundamental differences:\n",
    "- $S_k$ is a continuos process. No more discrete states\n",
    "- $W_n$ is Gaussian\n",
    "- $V$ is Gaussian"
   ]
  },
  {
   "cell_type": "markdown",
   "metadata": {},
   "source": [
    "Instead of having probabilities, we have densities. We use lowercase p is density, uppercase P for probability"
   ]
  },
  {
   "cell_type": "markdown",
   "metadata": {},
   "source": [
    "**Moving noise** (W):\n",
    "\n",
    "$p(W) = \\frac{1}{\\sigma_w \\sqrt{2\\pi}} e^{-\\frac{1}{2}\\frac{(W-\\mu_w)}{\\sigma_w^2}^2}$\n",
    "\n",
    "$\\mu_w = 0$\n",
    "\n",
    "**Measurement error**:\n",
    "\n",
    "$p(V) = \\frac{1}{\\sigma_v \\sqrt{2\\pi}} e^{-\\frac{1}{2}\\frac{(V-\\mu_v)}{\\sigma_v^2}^2}$\n",
    "\n",
    "$\\mu_v = 0$"
   ]
  },
  {
   "cell_type": "markdown",
   "metadata": {},
   "source": [
    "## The observation  - $X_k = S_k + V$\n",
    "This is the density before observing given than we are on a specific state"
   ]
  },
  {
   "cell_type": "markdown",
   "metadata": {},
   "source": [
    "V is gaussian with mean 0, so $X_k$ given $S_k$ will be gaussian with mean $S_k$. \n",
    "\n",
    "$p(X|S_k) = \\frac{1}{\\sigma_v \\sqrt{2\\pi}} e^{-\\frac{1}{2}\\frac{(X-S_k)}{\\sigma_v^2}^2}$\n"
   ]
  },
  {
   "cell_type": "code",
   "execution_count": 46,
   "metadata": {
    "collapsed": false
   },
   "outputs": [
    {
     "data": {
      "image/png": "[encoded data removed]",
      "text/plain": [
       "<matplotlib.figure.Figure at 0x110f496a0>"
      ]
     },
     "metadata": {},
     "output_type": "display_data"
    }
   ],
   "source": [
    "_ =plot_gaussian(N = 6, y_label = \"$p(X|S_k)$\", x_label = \"$X$\", center_label_tick = \"$S_k$\",figsize=(8,3))"
   ]
  },
  {
   "cell_type": "markdown",
   "metadata": {},
   "source": [
    "## The likelihood -  $\\mathcal{L}(S_k|X=X_0)$ = $p(X=X_0|S_k)$ \n",
    "\n",
    "Remember that for the likelihood, the observation $X_0$ is fixed and $S_k$ varies\n",
    "\n",
    "$p(X=X_0|S_k) = \\frac{1}{\\sigma_v \\sqrt{2\\pi}} e^{-\\frac{1}{2}\\frac{(X_0-S_k)}{\\sigma_v^2}^2}$\n",
    "\n",
    "This is equivalent to a Gaussian pdf that depends on $S_k$ with mean $X_0$ and variance $\\sigma_v$\n",
    "\n",
    "So given the observation $X_0$ the likelihood is:\n",
    "\n",
    "$p(S_k| \\mu=X_0) = \\frac{1}{\\sigma_v \\sqrt{2\\pi}} e^{-\\frac{1}{2}\\frac{(S_k-X_0)}{\\sigma_v^2}^2}$"
   ]
  },
  {
   "cell_type": "code",
   "execution_count": 55,
   "metadata": {
    "collapsed": false
   },
   "outputs": [
    {
     "data": {
      "image/png": "[encoded data removed]",
      "text/plain": [
       "<matplotlib.figure.Figure at 0x110f681d0>"
      ]
     },
     "metadata": {},
     "output_type": "display_data"
    }
   ],
   "source": [
    "_ =plot_gaussian(N = 6, y_label = \"$\\mathcal{L}(S_k|X=X_0)$\", x_label = \"$S_k$\", center_label_tick = \"$X_0$\",figsize=(8,3))"
   ]
  },
  {
   "cell_type": "markdown",
   "metadata": {},
   "source": [
    "## Prior (belief): my belief before measuring\n",
    "\n",
    "$p(S) = \\frac{1}{\\sigma_s \\sqrt{2\\pi}} e^{-\\frac{1}{2}\\frac{(S-\\mu_s)}{\\sigma_s^2}^2}$\n",
    "\n",
    "$\\sigma_s^2$ is the initial uncertainty"
   ]
  },
  {
   "cell_type": "markdown",
   "metadata": {},
   "source": [
    "## Posterior: probability of a state given the measurements\n",
    "\n",
    "$p(S_k|X) = \\alpha p(X|S_k)p(S_K)$\n",
    "\n",
    "**Bayes**:\n",
    "\n",
    "$p(S_k|X) = \\frac{p(X|S_k)p(S_K)}{p(X)}$\n",
    "\n",
    "$p(X) = \\sum_i{p(X,S_i)} = \\sum_i{p(X|S_i)p(S_i)}$\n",
    "\n",
    "Because likelihood and prior are gaussians, the posterior is gaussian"
   ]
  },
  {
   "cell_type": "markdown",
   "metadata": {},
   "source": [
    "# The filter\n",
    "## The goal. Where am I?\n",
    "Find my position $S_k$ given the observations\n",
    "## Update - Bayes\n",
    "Given the prior and the likelihood, find the posterior $S_k$\n",
    "\n",
    "$X_k = S_k + V$\n",
    "\n",
    "## Predict - Sum of random variable\n",
    "With the posterior predict $S_k$ adding 1 + W\n",
    "\n",
    "$S_k = S_{k-1} + 1 + W$\n",
    "\n",
    "## Loop\n",
    "My prediction is my prior, so observe X again and update, and so on ..."
   ]
  },
  {
   "cell_type": "markdown",
   "metadata": {},
   "source": [
    "# Properties of the gaussians - Parametric model"
   ]
  },
  {
   "cell_type": "markdown",
   "metadata": {},
   "source": [
    "https://github.com/jganzabal/Kalman-as-Recursive-Bayesian-Estimation/blob/master/gaussians_convolutions_lecture3.pdf"
   ]
  },
  {
   "cell_type": "markdown",
   "metadata": {},
   "source": [
    "## Update - Product of Gaussians\n",
    "Parallel resistances analogy\n",
    "\n",
    "$\\sigma_x^2 = \\frac{\\sigma_u^2\\mu_v +\\mu_u \\sigma_v^2}{\\sigma_u^2 + \\sigma_v^2}$\n",
    "\n",
    "$\\sigma_x^2 = \\frac{\\sigma_u^2 \\sigma_v^2}{\\sigma_u^2 + \\sigma_v^2}$"
   ]
  },
  {
   "cell_type": "code",
   "execution_count": 68,
   "metadata": {
    "collapsed": false
   },
   "outputs": [
    {
     "data": {
      "text/plain": [
       "[<matplotlib.lines.Line2D at 0x11066dfd0>]"
      ]
     },
     "execution_count": 68,
     "metadata": {},
     "output_type": "execute_result"
    },
    {
     "data": {
      "image/png": "[encoded data removed]",
      "text/plain": [
       "<matplotlib.figure.Figure at 0x110646ba8>"
      ]
     },
     "metadata": {},
     "output_type": "display_data"
    }
   ],
   "source": [
    "sig_u = 1\n",
    "sig_v = 1\n",
    "mu_u = 0\n",
    "mu_v = 1\n",
    "f, ax = plt.subplots(1, 1, sharey=True, sharex=True, figsize = (8,3))\n",
    "x, prior =plot_gaussian(mu = mu_u, sig = sig_u, N = 6, ax = ax)\n",
    "_, likelihood =plot_gaussian(mu = mu_v, sig = sig_v, N = 6, ax = ax, x=x)\n",
    "posterior_unnormalized = prior*likelihood\n",
    "ax.plot(x, posterior_unnormalized)\n",
    "\n",
    "sig_x = sig_u*sig_v/(sig_u+sig_v)\n",
    "u_x = (sig_u*mu_v + sig_v*mu_u)/(sig_u+sig_v)\n",
    "\n",
    "alpha = (np.sqrt(2*np.pi*sig_x))\n",
    "posterior = posterior_unnormalized*alpha\n",
    "ax.plot(x, posterior)\n",
    "\n",
    "#posterior = plot_gaussian(mu = u_x, sig = sig_x, N = 6, ax = ax)"
   ]
  },
  {
   "cell_type": "markdown",
   "metadata": {},
   "source": [
    "## Predict - Convolution of Gaussians"
   ]
  }
 ],
 "metadata": {
  "kernelspec": {
   "display_name": "Python 3",
   "language": "python",
   "name": "python3"
  },
  "language_info": {
   "codemirror_mode": {
    "name": "ipython",
    "version": 3
   },
   "file_extension": ".py",
   "mimetype": "text/x-python",
   "name": "python",
   "nbconvert_exporter": "python",
   "pygments_lexer": "ipython3",
   "version": "3.6.0"
  },
  "toc": {
   "colors": {
    "hover_highlight": "#DAA520",
    "navigate_num": "#000000",
    "navigate_text": "#333333",
    "running_highlight": "#FF0000",
    "selected_highlight": "#FFD700",
    "sidebar_border": "#EEEEEE",
    "wrapper_background": "#FFFFFF"
   },
   "moveMenuLeft": true,
   "nav_menu": {
    "height": "282px",
    "width": "252px"
   },
   "navigate_menu": true,
   "number_sections": true,
   "sideBar": true,
   "threshold": 4,
   "toc_cell": false,
   "toc_section_display": "block",
   "toc_window_display": true,
   "widenNotebook": false
  }
 },
 "nbformat": 4,
 "nbformat_minor": 2
}
