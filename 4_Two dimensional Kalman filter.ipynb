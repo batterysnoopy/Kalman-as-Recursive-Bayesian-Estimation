{
 "cells": [
  {
   "cell_type": "code",
   "execution_count": 1,
   "metadata": {
    "collapsed": false,
    "deletable": true,
    "editable": true
   },
   "outputs": [],
   "source": [
    "%load_ext autoreload\n",
    "%autoreload 2"
   ]
  },
  {
   "cell_type": "code",
   "execution_count": 2,
   "metadata": {
    "collapsed": true,
    "deletable": true,
    "editable": true
   },
   "outputs": [],
   "source": [
    "%matplotlib inline\n",
    "from matplotlib import pyplot as plt\n",
    "import numpy as np\n",
    "from scipy.interpolate import griddata\n",
    "from numpy.random import uniform, seed\n",
    "from matplotlib import cm"
   ]
  },
  {
   "cell_type": "markdown",
   "metadata": {
    "deletable": true,
    "editable": true
   },
   "source": [
    "We change notation for convinience \n",
    "\n",
    "$S = X$\n",
    "\n",
    "$X = Z$"
   ]
  },
  {
   "cell_type": "markdown",
   "metadata": {
    "deletable": true,
    "editable": true
   },
   "source": [
    "$\\vec{X_{k+1}} = F\\vec{X_{k}} + \\vec{W}$\n",
    "\n",
    "$\\vec{Z_k} = H\\vec{X_k} + \\vec{V}$"
   ]
  },
  {
   "cell_type": "markdown",
   "metadata": {
    "deletable": true,
    "editable": true
   },
   "source": [
    "$X_{k+1} = \\begin{bmatrix}x_{k+1} \\\\ \\dot{x_{k+1}} \\end{bmatrix}$\n",
    "$F = \\begin{bmatrix}1 & \\Delta{t} \\\\ 0 & 1 \\end{bmatrix}$\n",
    "$H = \\begin{bmatrix} 1 & 0 \\\\ 0 & 0\\end{bmatrix}$"
   ]
  },
  {
   "cell_type": "markdown",
   "metadata": {
    "deletable": true,
    "editable": true
   },
   "source": [
    "$W = N(0,Q)$\n",
    "\n",
    "$V = N(0,R)$\n",
    "\n",
    "Q and R are the covariances matrices"
   ]
  },
  {
   "cell_type": "markdown",
   "metadata": {
    "deletable": true,
    "editable": true
   },
   "source": [
    "$\\begin{bmatrix}x_{k+1} \\\\ \\dot{x_{k+1}} \\end{bmatrix} = \\begin{bmatrix}1 & \\Delta{t} \\\\ 0 & 1 \\end{bmatrix} \\begin{bmatrix}x_{k} \\\\ \\dot{x_{k}} \\end{bmatrix} + \\vec{W}$"
   ]
  },
  {
   "cell_type": "markdown",
   "metadata": {
    "deletable": true,
    "editable": true
   },
   "source": [
    "${Z_k} = \\begin{bmatrix} 1 & 0 \\end{bmatrix}\\begin{bmatrix}x_{k} \\\\ \\dot{x_{k}} \\end{bmatrix} + \\vec{V}$"
   ]
  },
  {
   "cell_type": "markdown",
   "metadata": {
    "deletable": true,
    "editable": true
   },
   "source": [
    "if $\\dot{x_k} = 1$ and $\\Delta{t} = 1$\n",
    "\n",
    "Same problem"
   ]
  },
  {
   "cell_type": "markdown",
   "metadata": {
    "deletable": true,
    "editable": true
   },
   "source": [
    "## Update (Multiplication or N dimensional normal pdfs)"
   ]
  },
  {
   "cell_type": "markdown",
   "metadata": {
    "deletable": true,
    "editable": true
   },
   "source": [
    "https://www.cs.nyu.edu/~roweis/notes/gaussid.pdf"
   ]
  },
  {
   "cell_type": "markdown",
   "metadata": {
    "deletable": true,
    "editable": true
   },
   "source": [
    "$N(c,C) = \\alpha N(a,A)N(b,B) $"
   ]
  },
  {
   "cell_type": "markdown",
   "metadata": {
    "deletable": true,
    "editable": true
   },
   "source": [
    "$ C = (A^{-1} + B^{-1})^{-1}$\n",
    "\n",
    "$ c = CA^{-1}a + CB^{-1}b$"
   ]
  },
  {
   "cell_type": "code",
   "execution_count": 12,
   "metadata": {
    "collapsed": false
   },
   "outputs": [],
   "source": [
    "def gauss_pdfs_mult(a,A,b,B):\n",
    "    A_1 = np.linalg.inv(A)\n",
    "    B_1 = np.linalg.inv(B)\n",
    "    C = np.linalg.inv(A_1 + B_1)\n",
    "    c = C.dot(A_1).dot(a) + C.dot(B_1).dot(b)\n",
    "    return c, C"
   ]
  },
  {
   "cell_type": "markdown",
   "metadata": {
    "deletable": true,
    "editable": true
   },
   "source": [
    "## Applied to our problem"
   ]
  },
  {
   "cell_type": "markdown",
   "metadata": {},
   "source": [
    "$\\vec{Z_k} = H\\vec{X_k} + \\vec{V}$"
   ]
  },
  {
   "cell_type": "markdown",
   "metadata": {},
   "source": [
    "$\\large{p(X_k|Z_k) = \\alpha p(Z_k|X_k)p(X_K)}$"
   ]
  },
  {
   "cell_type": "markdown",
   "metadata": {
    "deletable": true,
    "editable": true
   },
   "source": [
    "$a = \\mu_{z_k} = H \\vec{\\mu_{x_k}} \\quad A = R \\quad b=\\vec{\\mu_{X_k}} \\quad  B = \\Sigma_{X_k} $ \n",
    "\n",
    "$C$ = $\\Sigma_{X_k}^{updated} \\quad c=\\vec{\\mu_{X_k}}^{updated}$"
   ]
  },
  {
   "cell_type": "markdown",
   "metadata": {
    "deletable": true,
    "editable": true
   },
   "source": [
    "$P_k = \\Sigma_{X_k}^{ud} = (R^{-1} + \\Sigma_{X_k}^{-1})^{-1}$\n",
    "\n",
    "$\\hat{X_k} = \\vec{\\mu_x^{ud}} = P_kR^{-1}H\\vec{\\mu_{X_k}}+P_k\\Sigma_{X_k}^{-1}\\vec{\\mu_{X_k}}$"
   ]
  },
  {
   "cell_type": "code",
   "execution_count": 71,
   "metadata": {
    "collapsed": true,
    "deletable": true,
    "editable": true
   },
   "outputs": [],
   "source": [
    "def update(H, R, sigma_x, mu_x):\n",
    "    H= np.array(H)\n",
    "    return gauss_pdfs_mult(H.dot(mu_x), R, mu_x, sigma_x)"
   ]
  },
  {
   "cell_type": "code",
   "execution_count": 97,
   "metadata": {
    "collapsed": true,
    "deletable": true,
    "editable": true
   },
   "outputs": [],
   "source": [
    "def gauss(x,y,Sigma,mu):\n",
    "    X=np.vstack((x,y)).T\n",
    "    mat_multi=np.dot((X-mu[None,...]).dot(np.linalg.inv(Sigma)),(X-mu[None,...]).T)\n",
    "    return  np.diag(np.exp(-1*(mat_multi)))\n",
    "\n",
    "def plot_countour(x,y,z, limits, color = 'r'):\n",
    "    # define grid.\n",
    "    xi = np.linspace(limits[0], limits[1], 100)\n",
    "    yi = np.linspace(limits[2], limits[3], 100)\n",
    "    ## grid the data.\n",
    "    zi = griddata((x, y), z, (xi[None,:], yi[:,None]), method='cubic')\n",
    "    levels = [0.85, 0.9, 0.95]\n",
    "    n_levels = len(levels)\n",
    "    #n_levels = 10\n",
    "    # contour the gridded data, plotting dots at the randomly spaced data points.\n",
    "    #CS = plt.contour(xi,yi,zi,len(levels),linewidths=0.5,colors='k', levels=levels)\n",
    "    #CS = plt.contourf(xi,yi,zi,15,cmap=plt.cm.jet)\n",
    "    #CS = plt.contourf(xi,yi,zi,n_levels,cmap=cm.Greys_r, levels=levels)\n",
    "    \n",
    "    #CS = plt.contourf(xi,yi,zi,n_levels,cmap=cm.Greys_r)\n",
    "    CS = plt.contour(xi,yi,zi,n_levels,linewidths=0.5,colors=color, levels=levels)\n",
    "    \n",
    "    #plt.colorbar() # draw colorbar\n",
    "    # plot data points.\n",
    "    # plt.scatter(x, y, marker='o', c='b', s=5)\n",
    "    #plt.xlim(-2, 2)\n",
    "    #plt.ylim(-2, 2)\n",
    "    \n",
    "def plot_2d_gauss(mu ,Sigma ,npts = 1000, color='r',limits = [-1,2, -1.5,2.5]):\n",
    "    x = uniform(limits[0], limits[1], npts)\n",
    "    y = uniform(limits[2], limits[3], npts)\n",
    "    z = gauss(x,y,Sigma,mu)\n",
    "    plot_countour(x,y, z, limits = limits, color = color)"
   ]
  },
  {
   "cell_type": "code",
   "execution_count": 153,
   "metadata": {
    "collapsed": false,
    "deletable": true,
    "editable": true
   },
   "outputs": [
    {
     "data": {
      "image/png": "[encoded data removed]",
      "text/plain": [
       "<matplotlib.figure.Figure at 0x10fd868d0>"
      ]
     },
     "metadata": {},
     "output_type": "display_data"
    }
   ],
   "source": [
    "plt.figure(figsize = (5,5))  \n",
    "\n",
    "zero_mean = np.array([-0.5 , -0.5])\n",
    "R = np.array([[1, -0.707],[0 ,1]])\n",
    "\n",
    "mu_x = np.array([0.5 , 0.5])\n",
    "sigma_x = np.array([[1, 0.707],[0 ,1]])\n",
    "limit = 1\n",
    "plot_2d_gauss(zero_mean, R, color='r', limits = [-limit,limit, -limit,limit])\n",
    "plot_2d_gauss(mu_x, sigma_x, color='y', limits = [-limit,limit, -limit,limit])\n",
    "\n",
    "mean, P = gauss_pdfs_mult(zero_mean, R, mu_x, sigma_x)\n",
    "plot_2d_gauss(mean, P, color = 'b' , limits = [-limit,limit, -limit,limit])\n",
    "plt.title('Gaussian pdfs product')\n",
    "plt.show()"
   ]
  },
  {
   "cell_type": "markdown",
   "metadata": {},
   "source": [
    "## Observed position but not speed"
   ]
  },
  {
   "cell_type": "code",
   "execution_count": 168,
   "metadata": {
    "collapsed": false,
    "deletable": true,
    "editable": true
   },
   "outputs": [
    {
     "name": "stdout",
     "output_type": "stream",
     "text": [
      "[ 0.  0.]\n",
      "[[ 0.83333333  0.        ]\n",
      " [ 0.          4.97512438]]\n"
     ]
    },
    {
     "data": {
      "image/png": "[encoded data removed]",
      "text/plain": [
       "<matplotlib.figure.Figure at 0x11d95ea20>"
      ]
     },
     "metadata": {},
     "output_type": "display_data"
    }
   ],
   "source": [
    "plt.figure(figsize = (5,5))  \n",
    "H = np.array([[1, 0],[0,1]])\n",
    "# a priori estimates\n",
    "mu_x = np.array([0 , 0])\n",
    "sigma_x = np.array([[5, 0],[0 ,5]])\n",
    "\n",
    "# Observation distribution\n",
    "mu_z = H.dot(mu_x)\n",
    "# speed variance = infinite\n",
    "R = np.array([[1, 0],[0 ,1000]])\n",
    "\n",
    "plot_2d_gauss(mu_x, sigma_x, limits = [-limit,limit, -limit,limit], color = 'r')\n",
    "plot_2d_gauss(mu_z, R, limits = [-limit,limit, -limit,limit], color = 'y')\n",
    "\n",
    "mean, P = update(H, R, sigma_x, mu_x)\n",
    "print(mean)\n",
    "print(P)\n",
    "plot_2d_gauss(mean, P, limits = [-limit,limit, -limit,limit], color = 'b')"
   ]
  },
  {
   "cell_type": "code",
   "execution_count": null,
   "metadata": {
    "collapsed": true
   },
   "outputs": [],
   "source": []
  }
 ],
 "metadata": {
  "kernelspec": {
   "display_name": "Python 3",
   "language": "python",
   "name": "python3"
  },
  "language_info": {
   "codemirror_mode": {
    "name": "ipython",
    "version": 3
   },
   "file_extension": ".py",
   "mimetype": "text/x-python",
   "name": "python",
   "nbconvert_exporter": "python",
   "pygments_lexer": "ipython3",
   "version": "3.6.0"
  },
  "toc": {
   "colors": {
    "hover_highlight": "#DAA520",
    "navigate_num": "#000000",
    "navigate_text": "#333333",
    "running_highlight": "#FF0000",
    "selected_highlight": "#FFD700",
    "sidebar_border": "#EEEEEE",
    "wrapper_background": "#FFFFFF"
   },
   "moveMenuLeft": true,
   "nav_menu": {
    "height": "48px",
    "width": "252px"
   },
   "navigate_menu": true,
   "number_sections": true,
   "sideBar": true,
   "threshold": 4,
   "toc_cell": false,
   "toc_section_display": "block",
   "toc_window_display": false,
   "widenNotebook": false
  }
 },
 "nbformat": 4,
 "nbformat_minor": 2
}
